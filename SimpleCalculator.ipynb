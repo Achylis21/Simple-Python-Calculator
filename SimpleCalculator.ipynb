{
 "cells": [
  {
   "cell_type": "code",
   "execution_count": 18,
   "id": "310fc157-303f-4c83-97b5-12e378c86e67",
   "metadata": {},
   "outputs": [],
   "source": [
    "import re"
   ]
  },
  {
   "cell_type": "code",
   "execution_count": 91,
   "id": "d37c8b0d-cf5f-4572-b31c-b63694395943",
   "metadata": {},
   "outputs": [],
   "source": [
    "def calculated(res, value, operator):\n",
    "    if res == 0:\n",
    "        return res + int(value)\n",
    "    if operator == \"+\":\n",
    "        return res + int(value)\n",
    "    elif operator == \"-\":\n",
    "        return res - int(value)\n",
    "    elif operator == \"x\":\n",
    "        return res * int(value)\n",
    "    elif operator == \"/\":\n",
    "        try:\n",
    "            return res / int(value)\n",
    "        except ZeroDivisionError:\n",
    "            print(\"Cannot divide by zero\")\n",
    "            return "
   ]
  },
  {
   "cell_type": "code",
   "execution_count": 92,
   "id": "3af5db02-3201-4f1a-abbc-8f9237f4d3d0",
   "metadata": {},
   "outputs": [],
   "source": [
    "def calculator(equation):\n",
    "    txt = re.split(r'([\\+\\-x/])', equation.replace(\" \", \"\"))\n",
    "    res = 0\n",
    "    operator = \"\"\n",
    "    for value in txt:\n",
    "        if value.isdigit():\n",
    "            res = calculated(res, value, operator)\n",
    "        else:\n",
    "            operator = value\n",
    "\n",
    "    print(res)"
   ]
  },
  {
   "cell_type": "code",
   "execution_count": 93,
   "id": "0e548ad5-cb71-4b0e-b590-8d55fb68b46f",
   "metadata": {},
   "outputs": [
    {
     "name": "stdout",
     "output_type": "stream",
     "text": [
      "Cannot divide by zero\n",
      "None\n"
     ]
    }
   ],
   "source": [
    "calculator('2 x 3 / 0')"
   ]
  }
 ],
 "metadata": {
  "kernelspec": {
   "display_name": "Python 3 (ipykernel)",
   "language": "python",
   "name": "python3"
  },
  "language_info": {
   "codemirror_mode": {
    "name": "ipython",
    "version": 3
   },
   "file_extension": ".py",
   "mimetype": "text/x-python",
   "name": "python",
   "nbconvert_exporter": "python",
   "pygments_lexer": "ipython3",
   "version": "3.13.2"
  }
 },
 "nbformat": 4,
 "nbformat_minor": 5
}
